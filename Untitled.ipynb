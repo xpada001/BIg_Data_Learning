{
 "cells": [
  {
   "cell_type": "markdown",
   "metadata": {},
   "source": [
    "First need a flume configuration file to set up source, channel and sink"
   ]
  },
  {
   "cell_type": "code",
   "execution_count": null,
   "metadata": {},
   "outputs": [],
   "source": [
    "# example.conf: A single-node Flume configuration\n",
    "\n",
    "# Name the components on this agent\n",
    "a1.sources = r1\n",
    "a1.sinks = k1\n",
    "a1.channels = c1\n",
    "\n",
    "# Describe/configure the source\n",
    "a1.sources.r1.type = netcat\n",
    "a1.sources.r1.bind = localhost\n",
    "a1.sources.r1.port = 44444\n",
    "\n",
    "# Describe the sink\n",
    "a1.sinks.k1.type = logger\n",
    "\n",
    "# Use a channel which buffers events in memory\n",
    "a1.channels.c1.type = memory\n",
    "a1.channels.c1.capacity = 1000\n",
    "a1.channels.c1.transactionCapacity = 100\n",
    "\n",
    "# Bind the source and sink to the channel\n",
    "a1.sources.r1.channels = c1\n",
    "a1.sinks.k1.channel = c1"
   ]
  },
  {
   "cell_type": "markdown",
   "metadata": {},
   "source": [
    "Flume folder in hdp is at: /usr/hdp/current/flume-server/, go to that folder and run:\n",
    "```\n",
    "bin/flume-ng agent --conf conf --conf-file ~/example.conf --name a1 -Dflume.root.logger=INFO,console\n",
    "```\n",
    "On another terminal, you can run \n",
    "```\n",
    "telnet localhost 44444\n",
    "```\n",
    "Then type a few message, then you can see your msg in the first terminal."
   ]
  },
  {
   "cell_type": "markdown",
   "metadata": {},
   "source": [
    "now a more complicated example:\n",
    "For source: set up a spooldir\n",
    "sink will be hdfs that will have folder based on timestamp\n",
    "\n",
    "Here is the conf file:"
   ]
  },
  {
   "cell_type": "code",
   "execution_count": null,
   "metadata": {},
   "outputs": [],
   "source": [
    "# flumelogs.conf: A single-node Flume configuration\n",
    "\n",
    "# Name the components on this agent\n",
    "a1.sources = r1\n",
    "a1.sinks = k1\n",
    "a1.channels = c1\n",
    "\n",
    "# Describe/configure the source\n",
    "#this will monitor the directory for new files, then go through every line and timestamp it and send it to sink\n",
    "a1.sources.r1.type = spooldir\n",
    "a1.sources.r1.spoolDir = /home/maria_dev/spool\n",
    "a1.sources.r1.fileHeader = true\n",
    "a1.sources.r1.interceptors = timestampInterceptor\n",
    "a1.sources.r1.interceptors.timestampInterceptor.type = timestamp\n",
    "\n",
    "# Describe the sink\n",
    "a1.sinks.k1.type = hdfs\n",
    "a1.sinks.k1.hdfs.path = /user/maria_dev/flume/%y-%m-%d/%H%M/%S\n",
    "a1.sinks.k1.hdfs.filePrefix = events-\n",
    "a1.sinks.k1.hdfs.round = true\n",
    "a1.sinks.k1.hdfs.roundValue = 10\n",
    "a1.sinks.k1.hdfs.roundUnit = minute\n",
    "\n",
    "# Use a channel which buffers events in memory\n",
    "a1.channels.c1.type = memory\n",
    "a1.channels.c1.capacity = 1000\n",
    "a1.channels.c1.transactionCapacity = 100\n",
    "\n",
    "# Bind the source and sink to the channel\n",
    "a1.sources.r1.channels = c1\n",
    "a1.sinks.k1.channel = c1"
   ]
  },
  {
   "cell_type": "markdown",
   "metadata": {},
   "source": [
    "Make sure spool folder is created for the source,\n",
    "also make sure flume folder is created for the sink\n",
    "Then you can run \n",
    "```\n",
    "bin/flume-ng agent --conf conf --conf-file ~/flumelogs.conf --name a1 -Dflume.root.logger=INFO,console\n",
    "```\n",
    "on one terminal to start off. and on the other terminal, you can ingest some new logs file into the spool folder, for example the log.txt file from kafka. Then you can check in hdfs that the flume folder is filled with the logs created under some timestamp folder."
   ]
  },
  {
   "cell_type": "code",
   "execution_count": null,
   "metadata": {},
   "outputs": [],
   "source": []
  }
 ],
 "metadata": {
  "kernelspec": {
   "display_name": "Python 3",
   "language": "python",
   "name": "python3"
  },
  "language_info": {
   "codemirror_mode": {
    "name": "ipython",
    "version": 3
   },
   "file_extension": ".py",
   "mimetype": "text/x-python",
   "name": "python",
   "nbconvert_exporter": "python",
   "pygments_lexer": "ipython3",
   "version": "3.7.3"
  }
 },
 "nbformat": 4,
 "nbformat_minor": 2
}
