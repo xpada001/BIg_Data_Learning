{
 "cells": [
  {
   "cell_type": "markdown",
   "metadata": {},
   "source": [
    "To use MySQL in HDP, use the following command\n",
    "```\n",
    "mysql -uroot -phadoop\n",
    "```"
   ]
  },
  {
   "cell_type": "markdown",
   "metadata": {},
   "source": [
    "```\n",
    "SET NAMES 'utf8';\n",
    "SET CHARACTER SET utf8;\n",
    "USE movielens;\n",
    "source movielens.sql;\n",
    "\n",
    "#to show tables and database;\n",
    "show databases;\n",
    "show tables;\n",
    "```"
   ]
  },
  {
   "cell_type": "markdown",
   "metadata": {},
   "source": [
    "remembr to grant privileges to your dataset before importing them to Hadoop\n",
    "\n",
    "```\n",
    "GRANT ALL PRIVILEGES ON movielens.* to ''@'localhost';\n",
    "```\n",
    "\n",
    "#### import data from MySQL directly into Hive\n",
    "```\n",
    "sqoop import --connect jdbc:mysql://localhost/movielens --driver com.mysql.jdbc.Driver --table movies --hive-import\n",
    "```\n",
    "\n",
    "#### export data from Hive to MySQL:\n",
    "\n",
    "make sure to create the table first in MySQL\n",
    "```\n",
    "use movielens; \n",
    "CREATE TABLE exported_movies (id INTEGER, title VARCAR(255), releaseData DATE);\n",
    "```\n",
    "\n",
    "now do the export\n",
    "```\n",
    "sqoop export --connect jdbc:mysql://localhost/movielens -m 1 --driver com.mysql.jdbc.Driver --table exported_movies --export-dir /apps/hive/warehouse/movies --input-fields-terminated-by ‘\\0001’\n",
    "\n",
    "```\n",
    "Note:\n",
    "- /apps/hive/warehouse/ is usually where Hive stores the tables\n",
    "- delimiter '\\0001' is default delimiter for hive tables"
   ]
  }
 ],
 "metadata": {
  "kernelspec": {
   "display_name": "Python 3",
   "language": "python",
   "name": "python3"
  },
  "language_info": {
   "codemirror_mode": {
    "name": "ipython",
    "version": 3
   },
   "file_extension": ".py",
   "mimetype": "text/x-python",
   "name": "python",
   "nbconvert_exporter": "python",
   "pygments_lexer": "ipython3",
   "version": "3.7.3"
  }
 },
 "nbformat": 4,
 "nbformat_minor": 2
}
