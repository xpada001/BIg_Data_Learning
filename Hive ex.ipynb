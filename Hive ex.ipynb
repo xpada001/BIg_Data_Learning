{
 "cells": [
  {
   "cell_type": "markdown",
   "metadata": {},
   "source": [
    "Find the highest avg rating movies that has more than 10 ratings"
   ]
  },
  {
   "cell_type": "code",
   "execution_count": null,
   "metadata": {},
   "outputs": [],
   "source": [
    "CREATE VIEW IF NOT EXISTS movieTop AS\n",
    "SELECT movie_id, avg(ratings) as avgRatings\n",
    "FROM ratings \n",
    "GROUP BY movie_id\n",
    "HAVING count(movie_id) > 10\n",
    "ORDER BY avgRatings DESC\n",
    "LIMIT 10;\n",
    "\n",
    "SELECT b.title as movieTitle, a.avgRatings \n",
    "FROM movieTop a JOIN titles b \n",
    "ON a.movie_id = b.movieID;"
   ]
  }
 ],
 "metadata": {
  "kernelspec": {
   "display_name": "Python 3",
   "language": "python",
   "name": "python3"
  },
  "language_info": {
   "codemirror_mode": {
    "name": "ipython",
    "version": 3
   },
   "file_extension": ".py",
   "mimetype": "text/x-python",
   "name": "python",
   "nbconvert_exporter": "python",
   "pygments_lexer": "ipython3",
   "version": "3.7.3"
  }
 },
 "nbformat": 4,
 "nbformat_minor": 2
}
