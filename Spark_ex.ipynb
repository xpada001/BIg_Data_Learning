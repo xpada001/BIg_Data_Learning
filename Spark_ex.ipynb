{
 "cells": [
  {
   "cell_type": "code",
   "execution_count": null,
   "metadata": {},
   "outputs": [],
   "source": [
    "# pip install pyspark"
   ]
  },
  {
   "cell_type": "code",
   "execution_count": 3,
   "metadata": {
    "scrolled": true
   },
   "outputs": [],
   "source": [
    "from pyspark import SparkConf, SparkContext"
   ]
  },
  {
   "cell_type": "code",
   "execution_count": 4,
   "metadata": {},
   "outputs": [],
   "source": [
    "def loadMovieNames():\n",
    "    movieNames = {}\n",
    "    with open(\"ml-100k/u.item\") as f:\n",
    "        for line in f:\n",
    "            fields = line.split(\"|\")\n",
    "            movieNames[int(fields[0])] = fields[1]\n",
    "    return movieNames\n",
    "\n",
    "def parseInput():\n",
    "    fields = line.split()\n",
    "    return (int(fields[1], (float(fields[2], 1.0))))\n",
    "    "
   ]
  },
  {
   "cell_type": "code",
   "execution_count": null,
   "metadata": {},
   "outputs": [],
   "source": [
    "if __name__ == \"__main__\":\n",
    "    conf = SparkConf().setAppName(\"WorstMovies\")\n",
    "    sc = SparkContext(conf=conf)\n",
    "    \n",
    "    movieNames = loadMovieNames()\n",
    "    \n",
    "    #load u.data file\n",
    "    lines = sc.textFile(\"hdfs:///user/maria_dev/ml-100k/u.data\")\n",
    "    \n",
    "    #convert to (movieID, (rating, 1.0))\n",
    "    movieRatings = lines.map(parseInput)\n",
    "    \n",
    "    #convert to (movieID, (sumOfRatings, totalRatings))\n",
    "    ratingTotalsAndCount = movieRatings.reduceByKey(lambda movie1, movie2: (movie1[0]+movie2[0], movie1[1]+movie2[1]))\n",
    "    \n",
    "    avgRatings = ratingTotalAndCount.mapValues(lambda tot_count: tot_count[0]/tot_count[1])\n",
    "    \n",
    "    sortMovie = avgRatings.sortBy(lambda x:x[1])\n",
    "    \n",
    "    res = sortMovie.take(10)\n",
    "    \n",
    "    for r in res:\n",
    "        print(movieNames[r[0]], r[1]) "
   ]
  },
  {
   "cell_type": "markdown",
   "metadata": {},
   "source": [
    "To run spark, need to type 'spark-submit' first in the ssh "
   ]
  },
  {
   "cell_type": "markdown",
   "metadata": {},
   "source": [
    "Spark 2.0\n",
    "- Extends RDD to a \"Dataframe\" object"
   ]
  },
  {
   "cell_type": "code",
   "execution_count": null,
   "metadata": {},
   "outputs": [],
   "source": [
    "def parseInput2():\n",
    "    fields = line.split()\n",
    "    return Row(movieID = int(fields[1]), rating = float(fields[2])) "
   ]
  },
  {
   "cell_type": "code",
   "execution_count": null,
   "metadata": {},
   "outputs": [],
   "source": [
    "#Spark 2.0 version\n",
    "\n",
    "from pyspark.sql import SparkSession\n",
    "from pyspark.sql import Row\n",
    "from pyspark.sql import functions\n",
    "\n",
    "if __name__ == \"__main__\":\n",
    "    #create spark session\n",
    "    spark = SparkSession.builder.appName(\"PopularMovies\").getOrCreate()\n",
    "    #getorCreate either create a new session or pick up from snippet of last session\n",
    "    \n",
    "    movieNames = loadMovieNames()\n",
    "    \n",
    "    lines = spark.sparkContext.textFile(\"hdfs:///user/maria_dev/ml-100k/u.data\")\n",
    "    \n",
    "    movies = lines.map(parseInput2)\n",
    "    \n",
    "    movieData = spark.createDataFrame(movies)\n",
    "    \n",
    "    avgRating = movieData.groupBy(\"movieID\").avg(\"rating\")\n",
    "    \n",
    "    counts = movieData.groupBy(\"movieID\").count()\n",
    "    \n",
    "    avg_count = counts.join(avgRating, \"movieID\")\n",
    "    \n",
    "    #get top 10 res\n",
    "    topTen = avg_count.orderBy(\"avg(rating)\").take(10)\n",
    "    \n",
    "    for movie in topTen:\n",
    "        print(movieNames[movie[0]], movie[1], movie[2])"
   ]
  },
  {
   "cell_type": "markdown",
   "metadata": {},
   "source": [
    "Now a bit more complicated: doing movie recommendation using MLLib"
   ]
  },
  {
   "cell_type": "code",
   "execution_count": null,
   "metadata": {},
   "outputs": [],
   "source": [
    "def parseInput3():\n",
    "    fields = line.split()\n",
    "    return Row(userID = int(fields[0]), movieID = int(fields[1]), rating = float(fields[2])) "
   ]
  },
  {
   "cell_type": "code",
   "execution_count": null,
   "metadata": {},
   "outputs": [],
   "source": [
    "from pyspark.sql import SparkSession\n",
    "from pyspark.ml.recommendation import ALS\n",
    "from pyspark.sql import Row\n",
    "from pyspark.sql.functions import lit\n",
    "\n",
    "if __name__ == \"__main__\":\n",
    "    #create spark session\n",
    "    spark = SparkSession.builder.appName(\"PopularMovies\").getOrCreate()\n",
    "    #getorCreate either create a new session or pick up from snippet of last session\n",
    "    \n",
    "    movieNames = loadMovieNames()\n",
    "    \n",
    "    lines = spark.read.text(\"hdfs:///user/maria_dev/ml-100k/u.data\").rdd\n",
    "    \n",
    "    movies = lines.map(parseInput3)\n",
    "    \n",
    "    #use cache so that Spark wont keep recreate this dataset\n",
    "    movieData = spark.createDataFrame(movies).cache()\n",
    "    \n",
    "    als = ALS(maxIter=5, regParam=0.01, userCol='userID', itemCol=\"movieID\". ratingCol=\"rating\")\n",
    "    model=als.fit(movieData)\n",
    "    \n",
    "    #create manually user 0 with its preference to some movies, then predict its rating for other movies\n",
    "    \n",
    "    print(\"\\nRatings for user 0:\")\n",
    "    userRatings = movieData.filter(\"userID=0\")\n",
    "    for rating in userRatings.collect():\n",
    "        print movieNames[rating['movieID']], rating['rating']\n",
    "        \n",
    "    print('\\nTop 20 Recommendations:')\n",
    "    \n",
    "    ratingCounts = movieData.groupBy('movieID').count().filter('count>100')\n",
    "    #construct a test dataframe for user 0 with every movie rated more than 100 times\n",
    "    popularMovies = ratingCounts.select('movieID').withColumn('userID', lit(0))\n",
    "    \n",
    "    #run the model on that list of popular movies for user ID 0\n",
    "    recommendations = model.transform(popularMovies)\n",
    "    \n",
    "    topRecommendations = recommendations.sort(recommendations.prediction.desc()).take(20)\n",
    "    \n",
    "    for recommendation in topRecommendations:\n",
    "        print(movieNames[recommendation['movieID']], reocmmendation['prediction'])"
   ]
  }
 ],
 "metadata": {
  "kernelspec": {
   "display_name": "Python 3",
   "language": "python",
   "name": "python3"
  },
  "language_info": {
   "codemirror_mode": {
    "name": "ipython",
    "version": 3
   },
   "file_extension": ".py",
   "mimetype": "text/x-python",
   "name": "python",
   "nbconvert_exporter": "python",
   "pygments_lexer": "ipython3",
   "version": "3.7.3"
  }
 },
 "nbformat": 4,
 "nbformat_minor": 2
}
