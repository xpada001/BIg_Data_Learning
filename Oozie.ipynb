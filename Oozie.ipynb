{
 "cells": [
  {
   "cell_type": "markdown",
   "metadata": {},
   "source": [
    "Two step workflow:\n",
    "- get data from MySQL into our HDFS database using Sqoop\n",
    "- Use Hive to query on the data "
   ]
  },
  {
   "cell_type": "markdown",
   "metadata": {},
   "source": [
    "Reminder on how to log in to MySQL using sandbox:\n",
    "```\n",
    "mysql -u root -p <password>\n",
    "```\n",
    "make sure your database movielens is there and you have all permissions, if not please refer to prev notebook of MySQL\n",
    "\n",
    "Now get hive script oldmovies.sql:\n",
    "```\n",
    "DROP TABLE movies;\n",
    "CREATE EXTERNAL TABLE movies (movie_id INT, title STRING, release DATE) ROW FORM AT DELIMITED FIELDS TERMINTED BY ',' LOCATION '/user/maria_dev/movies/';\n",
    "INSERT OVERWRITE DIRECTORY '${OUTPUT}' SELECT * FROM movies WHERE release < '1940-01-01' ORDER BY release;\n",
    "```\n",
    "Remember EXTERNAL means it does not create a copy of it, OUTPUT will be set up in the properties file in Oozie job\n",
    "\n",
    "Below is the Oozie workflow xml file:"
   ]
  },
  {
   "cell_type": "code",
   "execution_count": null,
   "metadata": {},
   "outputs": [],
   "source": [
    "<?xml version=\"1.0\" encoding=\"UTF-8\"?>\n",
    "<workflow-app xmlns=\"uri:oozie:workflow:0.2\" name=\"old-movies\">\n",
    "    <start to=\"sqoop-node\"/>\n",
    " \n",
    "    <action name=\"sqoop-node\">\n",
    "        <sqoop xmlns=\"uri:oozie:sqoop-action:0.2\">\n",
    "            <job-tracker>${jobTracker}</job-tracker>\n",
    "            <name-node>${nameNode}</name-node>\n",
    "            <prepare> #run before starting the job\n",
    "                <delete path=\"${nameNode}/user/maria_dev/movies\"/>\n",
    "            </prepare>\n",
    " \n",
    "            <configuration>\n",
    "                <property>\n",
    "                    <name>mapred.job.queue.name</name>\n",
    "                    <value>${queueName}</value>\n",
    "                </property>\n",
    "            </configuration>\n",
    "            <command>import --connect jdbc:mysql://localhost/movielens --driver com.mysql.jdbc.Driver --table movies -m 1</command>\n",
    "        </sqoop>\n",
    "        <ok to=\"hive-node\"/>\n",
    "        <error to=\"fail\"/>\n",
    "    </action>\n",
    "  \n",
    "    <action name=\"hive-node\">\n",
    "        <hive xmlns=\"uri:oozie:hive-action:0.2\">\n",
    "            <job-tracker>${jobTracker}</job-tracker>\n",
    "            <name-node>${nameNode}</name-node>\n",
    "            <prepare>\n",
    "                <delete path=\"${nameNode}/user/maria_dev/oldmovies\"/>\n",
    "            </prepare>\n",
    "            <configuration>\n",
    "                <property>\n",
    "                    <name>mapred.job.queue.name</name>\n",
    "                    <value>${queueName}</value>\n",
    "                </property>\n",
    "            </configuration>\n",
    "            <script>oldmovies.sql</script>\n",
    "            <param>OUTPUT=/user/maria_dev/oldmovies</param>\n",
    "        </hive>\n",
    "        <ok to=\"end\"/>\n",
    "        <error to=\"fail\"/>\n",
    "    </action>\n",
    " \n",
    "    <kill name=\"fail\">\n",
    "        <message>Sqoop failed, error message[${wf:errorMessage(wf:lastErrorNode())}]</message>\n",
    "    </kill>\n",
    "    <end name=\"end\"/>\n",
    "</workflow-app>\n"
   ]
  },
  {
   "cell_type": "code",
   "execution_count": null,
   "metadata": {},
   "outputs": [],
   "source": [
    "#below is the properties file:\n",
    "\n",
    "nameNode=hdfs://sandbox-hdp.hortonworks.com:8020\n",
    "jobTracker=http://sandbox-hdp.hortonworks.com:8032\n",
    "queueName=default \n",
    "oozie.use.system.libpath=true\n",
    "oozie.wf.application.path=${nameNode}/user/maria_dev\n"
   ]
  },
  {
   "cell_type": "markdown",
   "metadata": {},
   "source": [
    "Now upload our scripts and files into hdfs:\n",
    "```\n",
    "hadoop fs -put workflow.xml /user/maria_dev\n",
    "hadoop fs -put oldmovies.sql /user/maria_dev\n",
    "```\n",
    "need to install a mySQL connector that oozie can see for sqoop to connect to MySQL:\n",
    "```\n",
    "hadoop fs -put /usr/share/java/mysql-connector-java.jar /user/oozie/share/lib/lib_20161025075203/sqoop\n",
    "```\n",
    "Then make sure to restart Oozie, and run:\n",
    "```\n",
    "oozie job -oozie http://localhost:11000/oozie -config /home/maria_dev/job.properties -run\n",
    "```\n",
    "Then you can go to http://127.0.0.1:11000/oozie to monitor the progress"
   ]
  },
  {
   "cell_type": "code",
   "execution_count": null,
   "metadata": {},
   "outputs": [],
   "source": []
  }
 ],
 "metadata": {
  "kernelspec": {
   "display_name": "Python 3",
   "language": "python",
   "name": "python3"
  },
  "language_info": {
   "codemirror_mode": {
    "name": "ipython",
    "version": 3
   },
   "file_extension": ".py",
   "mimetype": "text/x-python",
   "name": "python",
   "nbconvert_exporter": "python",
   "pygments_lexer": "ipython3",
   "version": "3.7.3"
  }
 },
 "nbformat": 4,
 "nbformat_minor": 2
}
