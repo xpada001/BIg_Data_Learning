{
 "cells": [
  {
   "cell_type": "code",
   "execution_count": null,
   "metadata": {},
   "outputs": [],
   "source": [
    "# pip install starbase"
   ]
  },
  {
   "cell_type": "markdown",
   "metadata": {},
   "source": [
    "To start the REST server in hdp, type the following after su root in the HDP CLI:\n",
    "```\n",
    "/usr/hdp/current/hbase-master/bin/hbase-daemon.sh start rest -p 8001\n",
    "```"
   ]
  },
  {
   "cell_type": "code",
   "execution_count": null,
   "metadata": {},
   "outputs": [],
   "source": [
    "from starbase import Connection #rest client for hbase\n",
    "\n",
    "c = Connection(host='127.0.0.1', port=8001)\n",
    "\n",
    "ratings = c.table(\"ratings\")\n",
    "\n",
    "if (ratings.exists()):\n",
    "    print(\"dropping existing table\\n\")\n",
    "    ratings.drop()\n",
    "\n",
    "ratings.create('rating')\n",
    "\n",
    "print(\"Parsing data\")\n",
    "f = open(\"C:/Users/xpada/Documents/github_repos/Big_Data_Learning/ml-100k\", \"r\")\n",
    "\n",
    "batch = ratings.batch()\n",
    "\n",
    "for line in f:\n",
    "    (userID, movieID, rating, timestamp) = line.split()\n",
    "    batch.update(userID, {'rating': {movieID, rating}})\n",
    "\n",
    "f.close()\n",
    "\n",
    "batch.commit(finalize=True)\n",
    "\n",
    "print(\"get ratings for user 11 and 22\")\n",
    "print(ratings.fetch('11'))\n",
    "print(ratings.fetch('22'))"
   ]
  },
  {
   "cell_type": "markdown",
   "metadata": {},
   "source": [
    "#### Create HBase table using pig for big data\n",
    "\n",
    "first, must create an empty table first in HBase\n",
    "```\n",
    "Hbase shell \n",
    "create 'users', 'userinfo' #where userinfo is the column family\n",
    "```\n",
    "use \n",
    "```\n",
    "scan 'users'\n",
    "```\n",
    "to take a peak at the table"
   ]
  },
  {
   "cell_type": "code",
   "execution_count": null,
   "metadata": {},
   "outputs": [],
   "source": [
    "ratings = LOAD '/user/maria_dev/ml-100k/u.user'\n",
    "USING PigStorage('|')\n",
    "AS (userID: int, age:int, gender: chararray, occupation: chararray, zip:int);\n",
    "\n",
    "STORE ratings INTO 'hbase://users'\n",
    "USING org.apache.pig.backend.hadoop.hbase.HBaseStorage('userinfo:age, userinfo:gender, userinfo:occupation, userinfo:zip');"
   ]
  },
  {
   "cell_type": "markdown",
   "metadata": {},
   "source": [
    "Before dropping a table in HBase, you have to disable it first: \n",
    "```\n",
    "disable 'users'\n",
    "drop 'users'\n",
    "```"
   ]
  }
 ],
 "metadata": {
  "kernelspec": {
   "display_name": "Python 3",
   "language": "python",
   "name": "python3"
  },
  "language_info": {
   "codemirror_mode": {
    "name": "ipython",
    "version": 3
   },
   "file_extension": ".py",
   "mimetype": "text/x-python",
   "name": "python",
   "nbconvert_exporter": "python",
   "pygments_lexer": "ipython3",
   "version": "3.7.3"
  }
 },
 "nbformat": 4,
 "nbformat_minor": 2
}
