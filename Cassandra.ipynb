{
 "cells": [
  {
   "cell_type": "markdown",
   "metadata": {},
   "source": [
    "Install cassandra in Ambari:\n",
    "\n",
    "- make sure your python version is 2.7.x\n",
    "- log in to HDP sandbox and do the following\n",
    "```\n",
    "cd /etc/yum.repos.d\n",
    "vi datastax.repo\n",
    "```\n",
    "and add the following to datastax.repo\n",
    "\n",
    "```\n",
    "[datastax]\n",
    "name = Datastax Repo for Apache Cassandra\n",
    "baseurl = http://rpm.datastax.com/community\n",
    "enabled = 1\n",
    "gpgcheck=0\n",
    "```\n",
    "Then do the following:\n",
    "```\n",
    "yum install dsc30\n",
    "pip install cql\n",
    "service cassandra start\n",
    "```\n",
    "Now cassandra service is started, run cqlsh to start creating a keyspace (i.e. like a database in SQL)\n",
    "\n",
    "```\n",
    "cqlsh\n",
    "CREATE KEYSPACE movielens WITH replication = {'class':'SimpleStrategy','replication_factor':'1'} AND durable_writes = true;\n",
    "```\n",
    "note that single quote is really important, dont use double quote.\n",
    "\n",
    "Now that database movielens is created, type \"USE movielens\" to create a table within:\n",
    "```\n",
    "CREATE TABLE users (user_id int, age int, gender text, occupation text, zip text, PRIMARY KEY (user_id));\n",
    "DESCRIBE TABLE users\n",
    "```\n"
   ]
  },
  {
   "cell_type": "markdown",
   "metadata": {},
   "source": [
    "Use Spark to create table in Cassandra"
   ]
  },
  {
   "cell_type": "code",
   "execution_count": null,
   "metadata": {},
   "outputs": [],
   "source": [
    "from pyspark.sql import SparkSession\n",
    "from pyspark.sql import Row\n",
    "from pyspark.sql import functions\n",
    "\n",
    "def parseInput(line):\n",
    "    fields = line.split('|')\n",
    "    return Row(user_id = int(fields[0]), age = int(fields[1]), gender = fields[2], occupation = fields[3], zip = fields[4]) #row name needs to match with Cassandra table\n",
    "\n",
    "if __name__ == \"__main__\":\n",
    "    # Create a SparkSession\n",
    "    spark = SparkSession.builder.appName(\"CassandraIntegration\").config(\"spark.cassandra.connection.host\", \"127.0.0.1\").getOrCreate()\n",
    "\n",
    "    # Get the raw data\n",
    "    lines = spark.sparkContext.textFile(\"hdfs://127.0.0.1:8020/user/maria_dev/ml-100k/u.data\")\n",
    "    # Convert it to a RDD of Row objects with (userID, age, gender, occupation, zip)\n",
    "    users = lines.map(parseInput)\n",
    "    # Convert that to a DataFrame\n",
    "    usersDataset = spark.createDataFrame(users)\n",
    "\n",
    "    # Write it into Cassandra\n",
    "    usersDataset.write\\\n",
    "        .format(\"org.apache.spark.sql.cassandra\")\\\n",
    "        .mode('append')\\\n",
    "        .options(table=\"users\", keyspace=\"movielens\")\\\n",
    "        .save()\n",
    "\n",
    "    # Read it back from Cassandra into a new Dataframe\n",
    "    readUsers = spark.read\\\n",
    "    .format(\"org.apache.spark.sql.cassandra\")\\\n",
    "    .options(table=\"users\", keyspace=\"movielens\")\\\n",
    "    .load()\n",
    "\n",
    "    readUsers.createOrReplaceTempView(\"users\")\n",
    "\n",
    "    sqlDF = spark.sql(\"SELECT * FROM users WHERE age < 20\")\n",
    "    sqlDF.show()\n",
    "\n",
    "    # Stop the session\n",
    "    spark.stop()\n"
   ]
  },
  {
   "cell_type": "markdown",
   "metadata": {},
   "source": [
    "run below in the shell\n",
    "```\n",
    "spark-submit --packages datastax:spark-cassandra-connector:2.0.0-M2-s_2.11 CassandraSpark.py\n",
    "```\n",
    "To double check, you can also do a CQLSH to check that the data is stored into the cassandra table\n",
    "```\n",
    "CQLSH\n",
    "USE movielens;\n",
    "SELECT * FROM users LIMIT 20;\n",
    "```"
   ]
  },
  {
   "cell_type": "code",
   "execution_count": null,
   "metadata": {},
   "outputs": [],
   "source": []
  }
 ],
 "metadata": {
  "kernelspec": {
   "display_name": "Python 3",
   "language": "python",
   "name": "python3"
  },
  "language_info": {
   "codemirror_mode": {
    "name": "ipython",
    "version": 3
   },
   "file_extension": ".py",
   "mimetype": "text/x-python",
   "name": "python",
   "nbconvert_exporter": "python",
   "pygments_lexer": "ipython3",
   "version": "3.7.3"
  }
 },
 "nbformat": 4,
 "nbformat_minor": 2
}
