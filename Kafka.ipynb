{
 "cells": [
  {
   "cell_type": "markdown",
   "metadata": {},
   "source": [
    "log in to HDP and create kafka topic and a producer:\n",
    "```\n",
    "cd /usr/hdp/current/kafka-broker/\n",
    "./kafka-topics.sh --create --zookeeper sandbox-hdp.hortonworks.com:2181 --replication-factor 1 --partitions 1 --topic michael\n",
    "./kafka-topics.sh --list --zookeeper sandbox-hdp.hortonworks.com:2181\n",
    "./kafka-console-producer.sh --broker-list sandbox-hdp.hortonworks.com:6667 --topic michael\n",
    "#line above is sending any message you type to the michael topic, waiting to be consumed\n",
    "```\n",
    "Now create a consumer and get the message from the topic:\n",
    "```\n",
    "./kafka-console-consumer.sh --bootstrap-server sandbox-hdp.hortonworks.com:6667 --topic michael --from-beginning\n",
    "```"
   ]
  },
  {
   "cell_type": "markdown",
   "metadata": {},
   "source": [
    "Now to add connector, need to modify some configuration file in /kafka-broker/conf folder\n",
    "\n",
    "connect-standalone.properties # set up the network\n",
    "- change: bootstrap.servers = sandbox-hdp.hortonworks.com:6667\n",
    "\n",
    "connect-file-sink.properties #file where we write our results into\n",
    "- change file=/home/maria_dev/example.txt\n",
    "- change topics = log-test\n",
    "\n",
    "connect-file-source.properties\n",
    "- change: file = home/maria_dev/access_log_small.txt\n",
    "- change: topic = log-test\n",
    "\n",
    "\n",
    "you can get the log.txt from\n",
    "```\n",
    "wget http://media.sundog-soft.com/hadoop/access_log_small.txt\n",
    "```\n",
    "\n",
    "Now lets setup/open a consumer:\n",
    "```\n",
    "./kafka-console-consumer.sh --bootstrap-server sandbox-hdp.hortonworks.com:6667 --topic log-test\n",
    "```\n",
    "\n",
    "on a diff terminal, setup connector, first go to /usr/hdp/current/kafka-broker/bin:\n",
    "```\n",
    "./connect-standalone.sh ~/connect-standalone.properties ~/connect-file-source.properties ~/connect-file-sink.properties\n",
    "```\n",
    "now the log.txt file is produced and consumed by kafka, and the logs are also saved in ~/example.txt. If you insert more logs in log.txt in real time, the consumer will consume it live too."
   ]
  }
 ],
 "metadata": {
  "kernelspec": {
   "display_name": "Python 3",
   "language": "python",
   "name": "python3"
  },
  "language_info": {
   "codemirror_mode": {
    "name": "ipython",
    "version": 3
   },
   "file_extension": ".py",
   "mimetype": "text/x-python",
   "name": "python",
   "nbconvert_exporter": "python",
   "pygments_lexer": "ipython3",
   "version": "3.7.3"
  }
 },
 "nbformat": 4,
 "nbformat_minor": 2
}
