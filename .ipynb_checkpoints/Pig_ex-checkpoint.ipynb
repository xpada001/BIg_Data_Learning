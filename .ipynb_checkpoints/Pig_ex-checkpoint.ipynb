{
 "cells": [
  {
   "cell_type": "markdown",
   "metadata": {},
   "source": [
    "Get old movie with high rating (>4) sorted by releaseTime"
   ]
  },
  {
   "cell_type": "code",
   "execution_count": null,
   "metadata": {},
   "outputs": [],
   "source": [
    "ratings = LOAD '/user/maria_dev/ml-100k/u.data' AS (userID:int, movieID:int, rating:int, ratingTime:int);\n",
    "#here consider ratings as a dataset\n",
    "\n",
    "metadata = LOAD '/user/maria_dev/ml-100k/u.item' USING PigStorage('|') \n",
    "\tAS (movieID:int, movieTitle:chararray, releaseDate:chararray, videoRelease:chararray, imdbLink:chararray);\n",
    "DUMP metadata; \n",
    "#gives a view of what you data looks like\n",
    "#anything thats now part of the scheme is discarded\n",
    "\n",
    "nameLookup = FOREACH metadata GENERATE movieID, movieTitle, ToUnixTime(ToDate(releaseDate, 'dd-MMM-yyyy')) AS releaseTime;\n",
    "#convert timestamp\n",
    "\n",
    "ratingsByMovie = GROUP ratings BY movieID;\n",
    "DUMP ratingsByMovie;\n",
    "#this will create a “bag” or array that group all the row with the same movieID. \n",
    "#This array contains all the info in that row, the first element of this array is the corresponding movieID.\n",
    "\n",
    "avgRatings = FOREACH ratingsByMovie GENERATE group AS movieID, AVG(ratings.rating) AS avgRating;\n",
    "#get the avg rating for each movie ID\n",
    "#you can use DESCRIBE <dataset> to get the scheme for a dataset (then you will understand why its AVG(ratings.rating) in the line above).\n",
    "\n",
    "fiveStarMovies = FILTER avgRatings BY avgRating > 4.0;\n",
    "fiveStarsWithData = JOIN fiveStarMovies BY movieID, nameLookup BY movieID;\n",
    "\n",
    "oldestFiveStarMovies = ORDER fiveStarsWithData BY nameLookup::releaseTime;\n",
    "#nameLookup::releaseTime is because this is the name of the column in fiveStarsWithData after using a join.\n",
    "DUMP oldestFiveStarMovies;\n"
   ]
  },
  {
   "cell_type": "code",
   "execution_count": null,
   "metadata": {},
   "outputs": [],
   "source": [
    "STORE rating INTO 'ratingFile' USING PigStorage(';')\n",
    "#to store the output into a file"
   ]
  },
  {
   "cell_type": "markdown",
   "metadata": {},
   "source": [
    "Another challenge to get the movies with bad ratings (<2.0) sorted by count of ratings in Pig Latin."
   ]
  },
  {
   "cell_type": "code",
   "execution_count": null,
   "metadata": {},
   "outputs": [],
   "source": [
    "ratings = LOAD '/user/maria_dev/ml-100k/u.data' AS (userID:int, movieID: int, rating: int);\n",
    "\n",
    "metadata = LOAD '/user/maria_dev/ml-100k/u.item' USING PigStorage('|') AS\n",
    "\t(movieID:int, movieTitle:chararray, releaseDate: chararray);\n",
    "\n",
    "data_unixTime = FOREACH metadata GENERATE movieID, movieTitle, ToUnixTime(ToDate(releaseDate, 'dd-MMM-yyyy')) AS releaseTime;\n",
    "\n",
    "grpRatings = GROUP ratings BY movieID;\n",
    "\n",
    "avgRatings = FOREACH grpRatings GENERATE group as movieID, AVG(ratings.rating) as avgRating;\n",
    "\n",
    "badRatings = FILTER avgRatings by avgRating < 2.0;\n",
    "\n",
    "joinData_badRating = JOIN badRatings BY movieID, data_unixTime BY movieID;\n",
    "\n",
    "countMovies = FOREACH grpRatings GENERATE group as movieID, COUNT(ratings.rating) as countRating;\n",
    "\n",
    "joinBadMoviesCount = JOIN joinData_badRating BY badRatings::movieID, countMovies BY movieID;\n",
    "\n",
    "orderMovies = ORDER joinBadMoviesCount BY countMovies::countRating DESC;\n",
    "\n",
    "DESCRIBE orderMovies;\n",
    "DUMP orderMovies;"
   ]
  }
 ],
 "metadata": {
  "kernelspec": {
   "display_name": "Python 3",
   "language": "python",
   "name": "python3"
  },
  "language_info": {
   "codemirror_mode": {
    "name": "ipython",
    "version": 3
   },
   "file_extension": ".py",
   "mimetype": "text/x-python",
   "name": "python",
   "nbconvert_exporter": "python",
   "pygments_lexer": "ipython3",
   "version": "3.7.3"
  }
 },
 "nbformat": 4,
 "nbformat_minor": 2
}
