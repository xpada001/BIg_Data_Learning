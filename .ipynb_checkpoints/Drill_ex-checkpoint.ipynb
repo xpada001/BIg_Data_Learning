{
 "cells": [
  {
   "cell_type": "markdown",
   "metadata": {},
   "source": [
    "Lets try to join data from Hive with data in MongoDB using Drill\n",
    "\n",
    "To create a database in Hive:\n",
    "- Open Ambari, and in Hive view use SQL to create a database\n",
    "```\n",
    "CREATE DATABASE movielens;\n",
    "```\n",
    "Then use upload table to upload the u.data in ml-100k folder with name ratings\n",
    "\n",
    "For mongoDB, login to shell then double check you have u.user file in your hdfs, call it users, then use the following to import this data from hdfs to mongoDB using spark:\n",
    "```\n",
    "su root\n",
    "export SPARK_MAJOR_VERSION=2\n",
    "spark-submit --packages org.mongodb.spark:mongo-spark-connector_2.11:2.00 MongoSpark.py\n",
    "```\n",
    "The script can be found in other notebooks\n",
    "\n",
    "Now install drill, need verison 1.12 to work in Horton works:\n",
    "```\n",
    "wget http://archive.apache.org/dist/drill/drill-1.12.0/apache-drill-1.12.0.tar.gz\n",
    "tar -xvf apache-drill-1.12.0.tar.gz #to decompress\n",
    "```\n",
    "\n",
    "Now drill is in our hdfs, we need to set up a port to connect to outside:\n",
    "```\n",
    "cd apache-drill-1.12.0\n",
    "bin/drillbit.sh start -Ddrill.exec.http.port=8765\n",
    "```\n",
    "Then you can go to 127.0.0.1:8765 to check drill UI, now we will connect drill to our hive and mongodb\n",
    "Go to storage in UI and enable hive and mongodb, then click update and add the following for Hive hive.metastore.uris\n",
    "```\n",
    "\"thrift://localhost:9083\"\n",
    "```\n",
    "Mongodb is set up as default at port 27017. \n",
    "\n",
    "Now we can go to Query part to run query using just standard SQL. ex:\n",
    "```\n",
    "SELECT * FROM hive.movielens.ratings LIMIT 10;\n",
    "\n",
    "SELECT * FROM mongo.movielens.users LIMIT 10;\n",
    "\n",
    "SELECT u.occupation, COUNT(*) FROM hive.movielens.ratings r\n",
    "JOIN mongo.movielens.users u ON r.user_id = u.user_id \n",
    "GROUP BY u.occupation;\n",
    "```\n",
    "\n",
    "To shutdown drill:\n",
    "```\n",
    "bin/drillbit.sh stop\n",
    "```"
   ]
  },
  {
   "cell_type": "code",
   "execution_count": null,
   "metadata": {},
   "outputs": [],
   "source": []
  }
 ],
 "metadata": {
  "kernelspec": {
   "display_name": "Python 3",
   "language": "python",
   "name": "python3"
  },
  "language_info": {
   "codemirror_mode": {
    "name": "ipython",
    "version": 3
   },
   "file_extension": ".py",
   "mimetype": "text/x-python",
   "name": "python",
   "nbconvert_exporter": "python",
   "pygments_lexer": "ipython3",
   "version": "3.7.3"
  }
 },
 "nbformat": 4,
 "nbformat_minor": 2
}
