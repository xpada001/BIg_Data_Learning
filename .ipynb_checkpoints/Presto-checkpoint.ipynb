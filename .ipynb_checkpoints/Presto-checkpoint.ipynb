{
 "cells": [
  {
   "cell_type": "markdown",
   "metadata": {},
   "source": [
    "installing presto and decompress it\n",
    "```\n",
    "wget <address of tar.gz of presto you can get at prestodb.io>\n",
    "tar -xvf presto-server-0.165.tar.gz\n",
    "```\n",
    "Note that there is no configuration which is supposed to be in etc/ folder. The documentation of configuration setup is in the website above. You can also get it from tutor website\n",
    "```\n",
    "wget http://media.sundog-soft.com/hadoop/presto-hdp-config.tgz\n",
    "```\n",
    "\n",
    "Then also install the command line interface from the presto website as well.\n",
    "\n",
    "To start:\n",
    "```\n",
    "bin/launcher start\n",
    "bin/presto --server 127.0.0.1:8090 --catalog hive\n",
    "show tables from default;\n",
    "select * from default.ratings limit 10; \n",
    "bin/launcher stop\n",
    "```\n",
    "can also check presto UI at 127.0.0.1:8090"
   ]
  },
  {
   "cell_type": "markdown",
   "metadata": {},
   "source": [
    "To start cassandra from shell\n",
    "```\n",
    "scl enable python27 bash\n",
    "service cassandra start\n",
    "nodetool enable thrift\n",
    "cqlsh\n",
    "describe keyspaces;\n",
    "use movielens;\n",
    "describe tables;\n",
    "select * from users limit 10;\n",
    "quit\n",
    "```\n",
    "now need to set a config file in presto for cassandra, add the following to a config file in etc/catalog, similar config setup for other database as well\n",
    "```\n",
    "connector.name=cassandra\n",
    "cassandra.contact-points=127.0.0.1\n",
    "```\n",
    "\n",
    "now start presto and do some queries:\n",
    "```\n",
    "bin/launcher start\n",
    "bin/presto --server 127.0.0.1:8090 --catalog hive, cassandra\n",
    "\n",
    "show tables from cassandra.movielens;\n",
    "describe cassandra.movielens.users;\n",
    "\n",
    "select u.occupation, count(*) from hive.default.ratings r join cassandra.movielens.users u on r.user_id = u.user_id group by u.occupation;\n",
    "```"
   ]
  },
  {
   "cell_type": "code",
   "execution_count": null,
   "metadata": {},
   "outputs": [],
   "source": []
  }
 ],
 "metadata": {
  "kernelspec": {
   "display_name": "Python 3",
   "language": "python",
   "name": "python3"
  },
  "language_info": {
   "codemirror_mode": {
    "name": "ipython",
    "version": 3
   },
   "file_extension": ".py",
   "mimetype": "text/x-python",
   "name": "python",
   "nbconvert_exporter": "python",
   "pygments_lexer": "ipython3",
   "version": "3.7.3"
  }
 },
 "nbformat": 4,
 "nbformat_minor": 2
}
