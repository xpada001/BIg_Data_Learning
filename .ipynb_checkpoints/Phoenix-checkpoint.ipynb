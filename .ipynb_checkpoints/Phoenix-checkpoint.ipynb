{
 "cells": [
  {
   "cell_type": "markdown",
   "metadata": {},
   "source": [
    "Install Phoenix on Hortonworks (I am using HOrtonworks 2.6.5, so Phoenix alrdy installed!) location:\n",
    "```\n",
    "/usr/hdp/current/phoenix-client/\n",
    "```\n",
    "To start phoenix, cd to the folder above and do the following:\n",
    "```\n",
    "python sqlline.py\n",
    "```\n",
    "some commands in phoenix:\n",
    "```\n",
    "CREATE TABLE IF NOT EXISTS us_population(\n",
    "state CHAR(2) NOT NULL,\n",
    "city VARCHAR NOT NULL,\n",
    "population BIGINT\n",
    "CONSTRAINT my_pk PRIMARY KEY (state,city));\n",
    "\n",
    "!tables #to get the list of tables\n",
    "\n",
    "UPSERT INTO US_POPULATION VALUES ('NY', 'New York', 8143297); #INSERT not working, UPSERT: insert if not exist, or else update\n",
    "UPSERT INTO US_POPULATION VALUES ('CA', 'LA', 3844513);\n",
    "\n",
    "SELECT * FROM US_POPULATION WHERE STATE='CA';\n",
    "\n",
    "DROP TABLE US_POPULATION;\n",
    "!quit;\n",
    "```\n",
    "\n",
    "\n",
    "Store and load data to HBase through Pig integration, going to play around with movielens dataset again\n",
    "\n",
    "first need to create a table in phoenix with same schemas as the user table:\n",
    "```\n",
    "CREATE TABLE users( USERID INTEGER NOT NULL, AGE INTEGER, GENDER CHAR(1), OCCUPATION VARCHAR, ZIP VARCHAR CONSTRAINT pk PRIMARY KEY(USERID));\n",
    "```\n",
    "\n",
    "then run the following pig script below by:\n",
    "```\n",
    "pig phoenix.pig\n",
    "```"
   ]
  },
  {
   "cell_type": "code",
   "execution_count": null,
   "metadata": {},
   "outputs": [],
   "source": [
    "set zookeeper.znode.parent '/hbase-unsecure'\n",
    "REGISTER /usr/hdp/current/phoenix-client/phoenix-client.jar #where to get the client to get phoenix\n",
    "\n",
    "users = LOAD '/user/maria_dev/ml-100k/u.user'\n",
    "USING PigStorage('|')\n",
    "AS (USERID:int, AGE:int, GENDER:chararray, OCCUPATION:chararray, ZIP:chararray);\n",
    "\n",
    "STORE users into 'hbase://users' using\n",
    "    org.apache.phoenix.pig.PhoenixHBaseStorage('localhost','-batchSize 5000'); \n",
    "    # localhost: hostname where phoenix is running\n",
    "    # batchsize means the entries it waits before commit all, make sure to have enough memory\n",
    "\n",
    "occupations = load 'hbase://table/users/USERID,OCCUPATION' using org.apache.phoenix.pig.PhoenixHBaseLoader('localhost');\n",
    "\n",
    "grpd = GROUP occupations BY OCCUPATION;\n",
    "cnt = FOREACH grpd GENERATE group AS OCCUPATION,COUNT(occupations);\n",
    "DUMP cnt;\n"
   ]
  }
 ],
 "metadata": {
  "kernelspec": {
   "display_name": "Python 3",
   "language": "python",
   "name": "python3"
  },
  "language_info": {
   "codemirror_mode": {
    "name": "ipython",
    "version": 3
   },
   "file_extension": ".py",
   "mimetype": "text/x-python",
   "name": "python",
   "nbconvert_exporter": "python",
   "pygments_lexer": "ipython3",
   "version": "3.7.3"
  }
 },
 "nbformat": 4,
 "nbformat_minor": 2
}
